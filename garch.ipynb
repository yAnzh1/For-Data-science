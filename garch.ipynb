{
 "cells": [
  {
   "cell_type": "code",
   "execution_count": null,
   "id": "6aabf3f3",
   "metadata": {},
   "outputs": [],
   "source": [
    "import pandas as pd\n",
    "import akshare as ak\n",
    "import seaborn as sns\n",
    "import arch\n",
    "import numpy as np\n",
    "import matplotlib.pyplot as plt\n",
    "import statsmodels.api as sm\n",
    "import warnings\n",
    "from arch import arch_model\n",
    "warnings.filterwarnings('ignore')\n",
    "sns.set(font='SimHei')\n",
    "plt.rcParams['font.sans-serif'] = ['SimHei'] \n",
    "plt.rcParams['axes.unicode_minus'] = False \n",
    "df = ak.stock_zh_a_spot_em()\n",
    "df.to_excel('example.xlsx', sheet_name='Sheet1', index=False)"
   ]
  },
  {
   "cell_type": "code",
   "execution_count": null,
   "id": "f09550c4",
   "metadata": {},
   "outputs": [],
   "source": [
    "import akshare as ak\n",
    "\n",
    "stock_zh_a_hist_df = ak.stock_zh_a_hist(symbol=\"688484\", period=\"daily\", start_date=\"20170301\", end_date='20231022', adjust=\"\")\n",
    "print(stock_zh_a_hist_df)"
   ]
  },
  {
   "cell_type": "code",
   "execution_count": null,
   "id": "b0e7ac32",
   "metadata": {},
   "outputs": [],
   "source": [
    "import pandas as pd\n",
    "import akshare as ak\n",
    "df=ak.stock_zh_a_hist(symbol='688484', period='daily', start_date='20230601', end_date='20240601', adjust='qfq')\n",
    "df.to_csv('688484abc.csv',index=False)"
   ]
  },
  {
   "cell_type": "code",
   "execution_count": null,
   "id": "26d7f2b2",
   "metadata": {},
   "outputs": [],
   "source": [
    "df['date']=pd.to_datetime(df['日期'])\n",
    "df=df.set_index('date')"
   ]
  },
  {
   "cell_type": "code",
   "execution_count": null,
   "id": "c9c57c5b",
   "metadata": {},
   "outputs": [],
   "source": [
    "ret=100*df['收盘'].pct_change().dropna()"
   ]
  },
  {
   "cell_type": "code",
   "execution_count": null,
   "id": "a105f530",
   "metadata": {},
   "outputs": [],
   "source": [
    "from statsmodels.tsa.stattools import adfuller #ADF单位根检验\n",
    "result = adfuller(ret) #不能拒绝原假设，即原序列存在单位根\n",
    "print(result)"
   ]
  },
  {
   "cell_type": "markdown",
   "id": "11cf0ba9",
   "metadata": {},
   "source": [
    "划分训练集和预测部分"
   ]
  },
  {
   "cell_type": "code",
   "execution_count": null,
   "id": "85d17cc0",
   "metadata": {},
   "outputs": [],
   "source": [
    "ret_train=ret[ret.index<'2024-05-01']\n",
    "ret_test=ret[ret.index>='2024-05-01']"
   ]
  },
  {
   "cell_type": "markdown",
   "id": "7ffdec9a",
   "metadata": {},
   "source": [
    "建立简单arch模型，进行arch效应检验"
   ]
  },
  {
   "cell_type": "code",
   "execution_count": null,
   "id": "c9cb18b3",
   "metadata": {},
   "outputs": [],
   "source": [
    "t1=arch.arch_model(ret_train, mean=\"Constant\", vol=\"ARCH\", p=1)\n",
    "result=t1.fit(disp=\"off\")"
   ]
  },
  {
   "cell_type": "code",
   "execution_count": null,
   "id": "2fb8722c",
   "metadata": {},
   "outputs": [],
   "source": [
    "result"
   ]
  },
  {
   "cell_type": "code",
   "execution_count": null,
   "id": "013c9cff",
   "metadata": {},
   "outputs": [],
   "source": [
    "result.arch_lm_test()"
   ]
  },
  {
   "cell_type": "code",
   "execution_count": null,
   "id": "211d4be7",
   "metadata": {},
   "outputs": [],
   "source": [
    "from statsmodels.stats.diagnostic import het_arch\n",
    "from scipy.stats import shapiro"
   ]
  },
  {
   "cell_type": "code",
   "execution_count": null,
   "id": "b0e2f69d",
   "metadata": {
    "scrolled": true
   },
   "outputs": [],
   "source": [
    "# 模型优化\n",
    "def gridsearch(data, p_rng, q_rng):\n",
    "    top_score, top_results = float('inf'), None\n",
    "    top_models = []\n",
    "    for p in range(len(p_rng)):\n",
    "        for q in range(len(q_rng)):\n",
    "            model = arch_model(data, vol='GARCH', p=p_rng[p], q=q_rng[q], dist='normal')\n",
    "            model_fit = model.fit(disp='off')\n",
    "            resid = model_fit.resid\n",
    "            st_resid = np.divide(resid, model_fit.conditional_volatility)\n",
    "            results = evaluate_model(resid, st_resid)\n",
    "            results['AIC'] = model_fit.aic\n",
    "            results['params']['p'] = p+1\n",
    "            results['params']['q'] = q+1\n",
    "            print(model_fit.aic)\n",
    "            if results['AIC'] < top_score:\n",
    "                top_score = results['AIC']\n",
    "                top_results = results\n",
    "\n",
    "    top_models.append(top_results)\n",
    "    return top_models\n",
    "\n",
    "\n",
    "# 模型评估\n",
    "def evaluate_model(residuals, st_residuals, lags=50):\n",
    "    results = {\n",
    "        'LM_pvalue': None,\n",
    "        'F_pvalue': None,\n",
    "        'SW_pvalue': None,\n",
    "        'AIC': None,\n",
    "        'params': {'p': None, 'q': None}\n",
    "    }\n",
    "\n",
    "    arch_test = het_arch(residuals, nlags=lags)\n",
    "    shap_test = shapiro(st_residuals)\n",
    "\n",
    "    results['LM_pvalue'] = [arch_test[1], arch_test[1] < 0.05]\n",
    "    results['F_pvalue'] = [arch_test[3], arch_test[3] < 0.05]\n",
    "    results['SW_pvalue'] = [shap_test[1], shap_test[1] < 0.05]\n",
    "\n",
    "    return results\n",
    "\n",
    "\n",
    "p_rng = list(range(1, 5)) \n",
    "q_rng = list(range(1, 5)) \n",
    "top_models = gridsearch(ret_train, p_rng, q_rng)\n",
    "print('*****************top_models*******************')\n",
    "print(top_models)"
   ]
  },
  {
   "cell_type": "code",
   "execution_count": null,
   "id": "7a13b0fc",
   "metadata": {},
   "outputs": [],
   "source": [
    "garch_model_1=arch.arch_model(ret_train,vol='GARCH',p=3,q=3)\n",
    "garch_result=garch_model_1.fit(disp=\"off\")"
   ]
  },
  {
   "cell_type": "code",
   "execution_count": null,
   "id": "42e50c8d",
   "metadata": {
    "scrolled": false
   },
   "outputs": [],
   "source": [
    "garch_result.hedgehog_plot()"
   ]
  },
  {
   "cell_type": "code",
   "execution_count": null,
   "id": "66c10e93",
   "metadata": {},
   "outputs": [],
   "source": [
    "forecasts_train = garch_result.forecast(start=0,horizon=1)\n",
    "forecasts_train.residual_variance"
   ]
  },
  {
   "cell_type": "code",
   "execution_count": null,
   "id": "b3f7c29f",
   "metadata": {},
   "outputs": [],
   "source": [
    "forecast_test=garch_result.forecast(horizon=len(ret_test))"
   ]
  },
  {
   "cell_type": "code",
   "execution_count": null,
   "id": "1c00fd84",
   "metadata": {},
   "outputs": [],
   "source": [
    "tmp=forecast_test.residual_variance.dropna().T\n",
    "tmp2=tmp[tmp.columns[0]].values.tolist()\n",
    "future=pd.DataFrame(tmp2)\n",
    "future.columns=['h.1']\n",
    "future.index=ret_test.index"
   ]
  },
  {
   "cell_type": "code",
   "execution_count": null,
   "id": "4a125035",
   "metadata": {},
   "outputs": [],
   "source": [
    "forecasts_train.residual_variance"
   ]
  },
  {
   "cell_type": "code",
   "execution_count": null,
   "id": "92d43015",
   "metadata": {
    "scrolled": false
   },
   "outputs": [],
   "source": [
    "plt.figure(figsize=(20,5))\n",
    "plt.plot(forecasts_train.residual_variance.index,forecasts_train.residual_variance.values,color='gray')\n",
    "plt.plot(future.index,future[future.columns[0]],color='red')\n",
    "ret.plot(color = \"blue\", zorder = 3)\n",
    "plt.title(\"Predictions of GARCH Model\", size=24)\n",
    "plt.legend(['train predict','test predict','actual'])\n",
    "plt.show()"
   ]
  },
  {
   "cell_type": "code",
   "execution_count": null,
   "id": "5f1ecbdb",
   "metadata": {},
   "outputs": [],
   "source": [
    "am = arch_model(ret, vol=\"arch\", p=3, o=0, q=3, dist=\"skewt\")\n",
    "res = am.fit(disp=\"off\")"
   ]
  },
  {
   "cell_type": "code",
   "execution_count": null,
   "id": "aa97a653",
   "metadata": {},
   "outputs": [],
   "source": [
    "forecasts = res.forecast(start=0)\n",
    "cond_mean = forecasts.mean.dropna()\n",
    "cond_var = forecasts.variance.dropna()\n",
    "q = am.distribution.ppf([0.01, 0.05], res.params[-2:])\n",
    "print(q)"
   ]
  },
  {
   "cell_type": "code",
   "execution_count": null,
   "id": "040909f0",
   "metadata": {},
   "outputs": [],
   "source": [
    "value_at_risk = -cond_mean.values - np.sqrt(cond_var).values * q[None, :]\n",
    "value_at_risk = pd.DataFrame(value_at_risk, columns=[\"1%\", \"5%\"], index=cond_var.index)"
   ]
  },
  {
   "cell_type": "code",
   "execution_count": null,
   "id": "96c97386",
   "metadata": {},
   "outputs": [],
   "source": [
    "for col in value_at_risk.columns:\n",
    "    value_at_risk[col]=-value_at_risk[col]"
   ]
  },
  {
   "cell_type": "code",
   "execution_count": null,
   "id": "3a8a3c4f",
   "metadata": {
    "scrolled": false
   },
   "outputs": [],
   "source": [
    "ax = value_at_risk.plot(legend=False)\n",
    "xl = ax.set_xlim(value_at_risk.index[0], value_at_risk.index[-1])\n",
    "rets_2018 = ret.copy()\n",
    "rets_2018.name = \"S&P 500 Return\"\n",
    "\n",
    "\n",
    "c = []\n",
    "for idx in value_at_risk.index:\n",
    "    if rets_2018[idx] > value_at_risk.loc[idx, \"5%\"]:\n",
    "        c.append(\"#000000\")\n",
    "    elif rets_2018[idx] < value_at_risk.loc[idx, \"1%\"]:\n",
    "        c.append(\"#BB0000\")\n",
    "    else:\n",
    "        c.append(\"#BB00BB\")\n",
    "c = np.array(c, dtype=\"object\")\n",
    "labels = {\n",
    "    \"#BB0000\": \"1% Exceedence\",\n",
    "    \"#BB00BB\": \"5% Exceedence\",\n",
    "    \"#000000\": \"No Exceedence\",\n",
    "}\n",
    "markers = {\"#BB0000\": \"x\", \"#BB00BB\": \"s\", \"#000000\": \"o\"}\n",
    "for color in np.unique(c):\n",
    "    sel = c == color\n",
    "    ax.scatter(\n",
    "        rets_2018.index[sel],\n",
    "        rets_2018.loc[sel],\n",
    "        marker=markers[color],\n",
    "        c=c[sel],\n",
    "        label=labels[color],\n",
    "    )\n",
    "ax.set_title(\"Parametric VaR\")\n",
    "leg = ax.legend(frameon=False, ncol=3)"
   ]
  },
  {
   "cell_type": "code",
   "execution_count": null,
   "id": "20651be6",
   "metadata": {},
   "outputs": [],
   "source": [
    "forecasts_train.residual_variance"
   ]
  },
  {
   "cell_type": "code",
   "execution_count": null,
   "id": "db37b446",
   "metadata": {},
   "outputs": [],
   "source": [
    "t=pd.DataFrame(future)\n",
    "t.columns=['h.1']"
   ]
  },
  {
   "cell_type": "code",
   "execution_count": null,
   "id": "94319848",
   "metadata": {},
   "outputs": [],
   "source": [
    "vol=forecasts_train.residual_variance._append(t)"
   ]
  },
  {
   "cell_type": "code",
   "execution_count": null,
   "id": "6e939cc6",
   "metadata": {},
   "outputs": [],
   "source": [
    "vol['ret']=ret"
   ]
  },
  {
   "cell_type": "code",
   "execution_count": null,
   "id": "e0d57d36",
   "metadata": {
    "scrolled": false
   },
   "outputs": [],
   "source": [
    "vol.plot()"
   ]
  },
  {
   "cell_type": "code",
   "execution_count": null,
   "id": "edf92c10",
   "metadata": {},
   "outputs": [],
   "source": [
    "vol_tmp=vol[vol.index>='2024-05-01']"
   ]
  },
  {
   "cell_type": "code",
   "execution_count": null,
   "id": "e825ab48",
   "metadata": {},
   "outputs": [],
   "source": [
    "total=[]\n",
    "first_price=df['收盘'].values.tolist()[-25]\n",
    "next_price=first_price\n",
    "for val in vol_tmp['h.1'].values.tolist():\n",
    "    next_price=(1+(val/100))*next_price\n",
    "    total.append(next_price)      "
   ]
  },
  {
   "cell_type": "code",
   "execution_count": null,
   "id": "a5d354c9",
   "metadata": {},
   "outputs": [],
   "source": [
    "vol_tmp['h.1'].values.tolist()"
   ]
  },
  {
   "cell_type": "code",
   "execution_count": null,
   "id": "ad1a0ce5",
   "metadata": {},
   "outputs": [],
   "source": [
    "df_tmp=df[df.index>='2024-05-01']\n",
    "df_tmp['pred_garch']=total\n",
    "df"
   ]
  },
  {
   "cell_type": "code",
   "execution_count": null,
   "id": "176cb99e",
   "metadata": {
    "scrolled": false
   },
   "outputs": [],
   "source": [
    "df_tmp['pred_garch'].plot()\n",
    "df_tmp['收盘'].plot()\n",
    "plt.legend(['pred close price','actual close price'])"
   ]
  }
 ],
 "metadata": {
  "kernelspec": {
   "display_name": "Python 3 (ipykernel)",
   "language": "python",
   "name": "python3"
  },
  "language_info": {
   "codemirror_mode": {
    "name": "ipython",
    "version": 3
   },
   "file_extension": ".py",
   "mimetype": "text/x-python",
   "name": "python",
   "nbconvert_exporter": "python",
   "pygments_lexer": "ipython3",
   "version": "3.11.9"
  }
 },
 "nbformat": 4,
 "nbformat_minor": 5
}
