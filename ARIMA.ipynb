{
 "cells": [
  {
   "cell_type": "code",
   "execution_count": null,
   "id": "070cacca",
   "metadata": {},
   "outputs": [],
   "source": [
    "import pandas as pd\n",
    "import akshare as ak\n",
    "import seaborn as sns\n",
    "import matplotlib.pyplot as plt\n",
    "import statsmodels.api as sm\n",
    "import warnings\n",
    "warnings.filterwarnings('ignore')\n",
    "sns.set(font='SimHei')\n",
    "plt.rcParams['font.sans-serif'] = ['SimHei'] \n",
    "plt.rcParams['axes.unicode_minus'] = False \n",
    "df = ak.stock_zh_a_spot_em()\n",
    "df.to_excel('example.xlsx', sheet_name='Sheet1', index=False)"
   ]
  },
  {
   "cell_type": "code",
   "execution_count": null,
   "id": "4079d58e",
   "metadata": {},
   "outputs": [],
   "source": [
    "import pandas as pd\n",
    "import akshare as ak\n",
    "df=ak.stock_zh_a_hist(symbol='688484', period='daily', start_date='20230601', end_date='20240601', adjust='qfq')\n",
    "df.to_csv('688484cba.csv',index=False)"
   ]
  },
  {
   "cell_type": "code",
   "execution_count": null,
   "id": "9a942148",
   "metadata": {
    "scrolled": false
   },
   "outputs": [],
   "source": [
    "import pandas as pd\n",
    "import numpy as np\n",
    "import matplotlib.pyplot as plt\n",
    "from statsmodels.tsa.stattools import adfuller\n",
    "from statsmodels.tsa.arima.model import ARIMA\n",
    "from sklearn.preprocessing import MinMaxScaler\n",
    "from statsmodels.graphics.tsaplots import plot_acf, plot_pacf\n",
    "from statsmodels.stats.diagnostic import acorr_ljungbox\n",
    "lit=['收盘']\n",
    "data=df[lit]\n",
    "result = adfuller(data)\n",
    "print(\"Test Statistic: %f\" % result[0])\n",
    "print(\"p-value: %f\" % result[1])\n",
    "print(\"No. of lags used: %f\" % result[2])\n",
    "print(\"Number of observations used: %f\" % result[3])\n",
    "print(\"critical value 1%%: %f\" % result[4][\"1%\"])\n",
    "print(\"critical value 5%%: %f\" % result[4][\"5%\"])\n",
    "print(\"critical value 10%%: %f\" % result[4][\"10%\"])\n",
    "if result[1] > 0.05:\n",
    "    diff_data = data.diff().dropna()\n",
    "    plt.figure()\n",
    "    plt.plot(data, label='Original')\n",
    "    plt.plot(diff_data, label='Differenced')\n",
    "    plt.legend()\n",
    "    data = diff_data\n",
    "else:\n",
    "    plt.figure()\n",
    "    plt.plot(data, label='Original')\n",
    "    plt.legend()"
   ]
  },
  {
   "cell_type": "code",
   "execution_count": null,
   "id": "b292a8db",
   "metadata": {
    "scrolled": false
   },
   "outputs": [],
   "source": [
    "scaler = MinMaxScaler()\n",
    "scaled_data = pd.DataFrame(scaler.fit_transform(data), columns=data.columns, index=data.index)\n",
    "plt.figure()\n",
    "plt.plot(scaled_data, label='Scaled')\n",
    "plt.legend()"
   ]
  },
  {
   "cell_type": "code",
   "execution_count": null,
   "id": "d8b8afdf",
   "metadata": {
    "scrolled": true
   },
   "outputs": [],
   "source": [
    "aic_values = {}\n",
    "for p in range(6):\n",
    "    for q in range(6):\n",
    "        try:\n",
    "            model = ARIMA(scaled_data, order=(p, 1, q))\n",
    "            result = model.fit()\n",
    "            aic_values[(p, 1, q)] = result.aic\n",
    "        except:\n",
    "            continue\n",
    "min_aic = min(aic_values, key=aic_values.get)\n",
    "print(\"min aci:\", min_aic)\n",
    "model = ARIMA(scaled_data, order=min_aic)\n",
    "result = model.fit()\n",
    "fig, axes = plt.subplots(2, 1, figsize=(10, 8))\n",
    "plot_acf(scaled_data, ax=axes[0])\n",
    "plot_pacf(scaled_data, ax=axes[1])\n",
    "plt.show()"
   ]
  },
  {
   "cell_type": "code",
   "execution_count": null,
   "id": "c7cde948",
   "metadata": {},
   "outputs": [],
   "source": [
    "stock_file = '688484cba.csv'\n",
    "df = pd.read_csv(stock_file, index_col='日期', parse_dates=True)\n",
    "df"
   ]
  },
  {
   "cell_type": "code",
   "execution_count": null,
   "id": "1199c746",
   "metadata": {
    "scrolled": true
   },
   "outputs": [],
   "source": [
    "stock_week = df['收盘']\n",
    "stock_train = stock_week['2023-06-01':'2024-05-01']\n",
    "stock_actual=stock_week['2024-05-01':'2024-06-01']\n",
    "stock_train.plot(figsize=(15,6))\n",
    "plt.legend()\n",
    "plt.title('Stock Close')\n",
    "sns.despine()"
   ]
  },
  {
   "cell_type": "code",
   "execution_count": null,
   "id": "7d9c8f11",
   "metadata": {},
   "outputs": [],
   "source": [
    "stock_actual=stock_week['2024-05-01':'2024-06-01']"
   ]
  },
  {
   "cell_type": "code",
   "execution_count": null,
   "id": "41be5624",
   "metadata": {
    "scrolled": false
   },
   "outputs": [],
   "source": [
    "# 将时间序列进行差分并确定参数d\n",
    "# 一阶差分\n",
    "stock_diff_1 = stock_train.diff()\n",
    "stock_diff_1.dropna(inplace=True)\n",
    "# 二阶差分\n",
    "stock_diff_2 = stock_diff_1.diff()\n",
    "stock_diff_2.dropna(inplace=True)\n",
    "plt.figure(figsize=(12,6))\n",
    "\n",
    "plt.subplot(2,1,2)\n",
    "plt.plot(stock_diff_2)\n",
    "plt.title('Second Differential')\n",
    "plt.show()"
   ]
  },
  {
   "cell_type": "markdown",
   "id": "2cbea54b",
   "metadata": {},
   "source": [
    "### 拟合ARIMA模型\n"
   ]
  },
  {
   "cell_type": "code",
   "execution_count": null,
   "id": "809852ca",
   "metadata": {},
   "outputs": [],
   "source": [
    "model = sm.tsa.ARIMA(stock_train, order=(2, 1, 4))\n",
    "result = model.fit()"
   ]
  },
  {
   "cell_type": "code",
   "execution_count": null,
   "id": "ff809367",
   "metadata": {},
   "outputs": [],
   "source": [
    "stock_future = stock_week['2024-05-01':]"
   ]
  },
  {
   "cell_type": "code",
   "execution_count": null,
   "id": "03fda0d3",
   "metadata": {},
   "outputs": [],
   "source": [
    "# 使用该模型进行预测\n",
    "forecast = result.forecast(len(stock_future))\n",
    "forecast.index=stock_future.index"
   ]
  },
  {
   "cell_type": "code",
   "execution_count": null,
   "id": "a6eb93dd",
   "metadata": {},
   "outputs": [],
   "source": [
    "forecast"
   ]
  },
  {
   "cell_type": "code",
   "execution_count": null,
   "id": "36c81093",
   "metadata": {
    "scrolled": true
   },
   "outputs": [],
   "source": [
    "plt.xticks(rotation=45)\n",
    "plt.plot(forecast,label='Prediction')\n",
    "plt.plot(stock_actual,label='Actual Value')\n",
    "plt.plot(stock_train,label='Train')\n",
    "plt.legend()\n",
    "plt.show()"
   ]
  },
  {
   "cell_type": "code",
   "execution_count": null,
   "id": "f6ba5441",
   "metadata": {
    "scrolled": false
   },
   "outputs": [],
   "source": [
    "plt.xticks(rotation=45)\n",
    "plt.plot(forecast,label='Prediction')\n",
    "plt.plot(stock_actual,label='Actual Value')\n",
    "plt.legend()\n",
    "plt.show()"
   ]
  }
 ],
 "metadata": {
  "kernelspec": {
   "display_name": "Python 3 (ipykernel)",
   "language": "python",
   "name": "python3"
  },
  "language_info": {
   "codemirror_mode": {
    "name": "ipython",
    "version": 3
   },
   "file_extension": ".py",
   "mimetype": "text/x-python",
   "name": "python",
   "nbconvert_exporter": "python",
   "pygments_lexer": "ipython3",
   "version": "3.11.9"
  }
 },
 "nbformat": 4,
 "nbformat_minor": 5
}
